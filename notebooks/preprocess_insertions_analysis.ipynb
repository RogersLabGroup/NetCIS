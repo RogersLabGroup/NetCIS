{
 "cells": [
  {
   "cell_type": "code",
   "execution_count": 16,
   "metadata": {},
   "outputs": [
    {
     "data": {
      "text/plain": [
       "PosixPath('/project/cs-myers/MathewF/projects/Laura-SB-Analysis/NetCIS/notebooks')"
      ]
     },
     "execution_count": 16,
     "metadata": {},
     "output_type": "execute_result"
    }
   ],
   "source": [
    "from pathlib import Path\n",
    "\n",
    "import pandas as pd\n",
    "import numpy as np\n",
    "import seaborn.objects as so\n",
    "from seaborn import axes_style\n",
    "from IPython.display import display\n",
    "Path.cwd()"
   ]
  },
  {
   "cell_type": "code",
   "execution_count": 17,
   "metadata": {},
   "outputs": [],
   "source": [
    "insertion_files = Path(\"/project/cs-myers/MathewF/projects/Laura-SB-Analysis/output/2020_SB-insertions/\")\n",
    "input_file = Path(\"/project/cs-myers/MathewF/projects/Laura-SB-Analysis/input.tsv\")\n"
   ]
  },
  {
   "cell_type": "code",
   "execution_count": 18,
   "metadata": {},
   "outputs": [
    {
     "name": "stdout",
     "output_type": "stream",
     "text": [
      "number of files with insertions: 301\n",
      "total files: 312\n"
     ]
    }
   ],
   "source": [
    "insert_list = []\n",
    "for file in insertion_files.iterdir():\n",
    "    tmp_df = pd.read_csv(file, sep=\"\\t\")\n",
    "    tumor_model, sample_id, tissue_type = file.name.split(\"-\")\n",
    "    tmp_df[\"tumor_model\"] = tumor_model\n",
    "    tmp_df[\"sample_id\"] = sample_id\n",
    "    tmp_df[\"tissue\"] = tissue_type.split(\".\")[0]  # RT/LT/S\n",
    "    insert_list.append(tmp_df)\n",
    "inserts_df = pd.concat(insert_list, ignore_index=True)\n",
    "\n",
    "file_count = len(inserts_df.groupby(by=[\"tumor_model\", \"sample_id\", \"tissue\"]).count())\n",
    "print(f\"number of files with insertions: {file_count}\")\n",
    "\n",
    "in_df = pd.read_csv(input_file, sep=\"\\t\", header=None)\n",
    "print(f\"total files: {len(in_df)}\")"
   ]
  },
  {
   "cell_type": "code",
   "execution_count": null,
   "metadata": {},
   "outputs": [],
   "source": []
  }
 ],
 "metadata": {
  "kernelspec": {
   "display_name": "netcis",
   "language": "python",
   "name": "python3"
  },
  "language_info": {
   "codemirror_mode": {
    "name": "ipython",
    "version": 3
   },
   "file_extension": ".py",
   "mimetype": "text/x-python",
   "name": "python",
   "nbconvert_exporter": "python",
   "pygments_lexer": "ipython3",
   "version": "3.10.10"
  },
  "orig_nbformat": 4
 },
 "nbformat": 4,
 "nbformat_minor": 2
}
